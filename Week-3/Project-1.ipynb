{
 "cells": [
  {
   "cell_type": "code",
   "execution_count": 1,
   "id": "588bc0d8-3b75-4d7d-a31a-faf07eff4212",
   "metadata": {},
   "outputs": [],
   "source": [
    "import cv2 as cv\n",
    "import numpy as np\n",
    "import matplotlib.pyplot as plt"
   ]
  },
  {
   "cell_type": "code",
   "execution_count": 2,
   "id": "180fb27b",
   "metadata": {},
   "outputs": [],
   "source": [
    "def display_transformation_menu():\n",
    "    print(\"Select a transformation technique:\")\n",
    "    print(\"A. Technique A\")\n",
    "    print(\"B. Technique B\")\n",
    "    print(\"C. Technique C\")\n",
    "    print(\"D. Technique D\")\n",
    "    print(\"E. Technique E\")\n",
    "    print(\"F. Technique F\")"
   ]
  },
  {
   "cell_type": "code",
   "execution_count": 3,
   "id": "0c4abe3d",
   "metadata": {},
   "outputs": [],
   "source": [
    "def display_image(category_choice, image_number):\n",
    "    image_path = f\"img/{category_choice}/{image_number}.jpg\"   "
   ]
  },
  {
   "cell_type": "code",
   "execution_count": 4,
   "id": "aaa5523c",
   "metadata": {},
   "outputs": [],
   "source": [
    "def image_translation(image_path):\n",
    "    img = cv.imread(image_path)\n",
    "    rows, cols = img.shape\n",
    "    plt.subplot(1, 2, 1)\n",
    "    plt.title(\"Original\")\n",
    "    plt.imshow(img)\n",
    "    cv.waitkey(0)\n",
    "    M = np.float32([[1, 0, 100],[0, 1, 50]])\n",
    "    trans1 = cv.warpAffine(img, M, (cols, rows))\n",
    "    plt.subplot(1, 2, 2)\n",
    "    plt.title(\"Translated Image\")\n",
    "    plt.imshow(trans1) \n",
    "    cv.waitKey(0)     \n",
    "pass"
   ]
  },
  {
   "cell_type": "code",
   "execution_count": 5,
   "id": "33fb2941",
   "metadata": {},
   "outputs": [],
   "source": [
    "def technique_B(image):\n",
    "    # Apply transformation B to the image\n",
    "    pass"
   ]
  },
  {
   "cell_type": "code",
   "execution_count": 6,
   "id": "3703aa37",
   "metadata": {},
   "outputs": [],
   "source": [
    "def technique_C(image):\n",
    "    # Apply transformation C to the image\n",
    "    pass"
   ]
  },
  {
   "cell_type": "code",
   "execution_count": 7,
   "id": "9d4c935a",
   "metadata": {},
   "outputs": [],
   "source": [
    "\n",
    "def technique_D(image):\n",
    "    # Apply transformation D to the image\n",
    "    pass"
   ]
  },
  {
   "cell_type": "code",
   "execution_count": 8,
   "id": "b0a9af65",
   "metadata": {},
   "outputs": [],
   "source": [
    "def technique_E(image):\n",
    "    # Apply transformation E to the image\n",
    "    pass"
   ]
  },
  {
   "cell_type": "code",
   "execution_count": 9,
   "id": "c0d30d76",
   "metadata": {},
   "outputs": [],
   "source": [
    "def technique_F(image):\n",
    "    # Apply transformation F to the image\n",
    "    pass"
   ]
  },
  {
   "cell_type": "code",
   "execution_count": 11,
   "id": "f1e9d717-d5a4-495f-906a-56d99e68e7be",
   "metadata": {},
   "outputs": [],
   "source": [
    "import re\n",
    "\n",
    "def validate_email(email):\n",
    "    email_regex = r'^[a-zA-Z0-9._%+-]+@[a-zA-Z0-9.-]+\\.[a-zA-Z]{2,}$'\n",
    "    return re.match(email_regex, email)\n",
    "\n",
    "def validate_age(age):\n",
    "    return age > 18\n",
    "\n",
    "def get_category_choice():\n",
    "    categories = ['traditional', 'modern', 'contemporary']\n",
    "    while True:\n",
    "        choice = input(\"Please specify your choice of collection category (traditional/modern/contemporary): \").lower()\n",
    "        if choice in categories:\n",
    "            return choice\n",
    "        else:\n",
    "            print(\"Invalid choice. Please choose from traditional, modern, or contemporary.\")\n"
   ]
  },
  {
   "cell_type": "code",
   "execution_count": 12,
   "id": "8aeafadc",
   "metadata": {},
   "outputs": [],
   "source": [
    "\n",
    "def main():\n",
    "    # Main function\n",
    "    email = input(\"Enter your email: \")\n",
    "    age = int(input(\"Enter your age: \"))\n",
    "\n",
    "    if not validate_email(email):\n",
    "        print(\"Invalid email format.\")\n",
    "        return\n",
    "\n",
    "    if not validate_age(age):\n",
    "        print(\"You must be above 18 years old.\")\n",
    "        return\n",
    "\n",
    "    category_choice = get_category_choice()\n",
    "    print(\"Email:\", email)\n",
    "    print(\"Age:\", age)\n",
    "    print(\"Category of interest:\", category_choice)\n",
    "\n",
    "    image_number = int(input(\"Enter a number between 1 and 5: \"))\n",
    "    if not (1 <= image_number <= 5):\n",
    "        print(\"Invalid number.\")\n",
    "        return\n",
    "    \n",
    "    display_image(category_choice, image_number)\n",
    "\n",
    "    display_transformation_menu()\n",
    "    \n",
    "    technique_choice = input(\"Enter the technique letter (A to F): \").upper()\n",
    "\n",
    "    if technique_choice == 'Image Translation':\n",
    "        image_translation()\n",
    "    elif technique_choice == 'B':\n",
    "        technique_B()\n",
    "    elif technique_choice == 'C':\n",
    "        technique_C()\n",
    "    elif technique_choice == 'D':\n",
    "        technique_D()\n",
    "    elif technique_choice == 'E':\n",
    "        technique_E()\n",
    "    elif technique_choice == 'F':\n",
    "        technique_F()\n",
    "    else:\n",
    "        print(\"Invalid technique choice.\")   \n",
    "\n"
   ]
  },
  {
   "cell_type": "code",
   "execution_count": 13,
   "id": "627fc6ed",
   "metadata": {},
   "outputs": [
    {
     "ename": "KeyboardInterrupt",
     "evalue": "Interrupted by user",
     "output_type": "error",
     "traceback": [
      "\u001b[0;31m---------------------------------------------------------------------------\u001b[0m",
      "\u001b[0;31mKeyboardInterrupt\u001b[0m                         Traceback (most recent call last)",
      "Cell \u001b[0;32mIn[13], line 2\u001b[0m\n\u001b[1;32m      1\u001b[0m \u001b[38;5;28;01mif\u001b[39;00m \u001b[38;5;18m__name__\u001b[39m \u001b[38;5;241m==\u001b[39m \u001b[38;5;124m\"\u001b[39m\u001b[38;5;124m__main__\u001b[39m\u001b[38;5;124m\"\u001b[39m:\n\u001b[0;32m----> 2\u001b[0m     main()\n",
      "Cell \u001b[0;32mIn[12], line 4\u001b[0m, in \u001b[0;36mmain\u001b[0;34m()\u001b[0m\n\u001b[1;32m      1\u001b[0m \u001b[38;5;28;01mdef\u001b[39;00m \u001b[38;5;21mmain\u001b[39m():\n\u001b[1;32m      2\u001b[0m     \u001b[38;5;66;03m# Main function\u001b[39;00m\n\u001b[1;32m      3\u001b[0m     email \u001b[38;5;241m=\u001b[39m \u001b[38;5;28minput\u001b[39m(\u001b[38;5;124m\"\u001b[39m\u001b[38;5;124mEnter your email: \u001b[39m\u001b[38;5;124m\"\u001b[39m)\n\u001b[0;32m----> 4\u001b[0m     age \u001b[38;5;241m=\u001b[39m \u001b[38;5;28mint\u001b[39m(\u001b[38;5;28minput\u001b[39m(\u001b[38;5;124m\"\u001b[39m\u001b[38;5;124mEnter your age: \u001b[39m\u001b[38;5;124m\"\u001b[39m))\n\u001b[1;32m      6\u001b[0m     \u001b[38;5;28;01mif\u001b[39;00m \u001b[38;5;129;01mnot\u001b[39;00m validate_email(email):\n\u001b[1;32m      7\u001b[0m         \u001b[38;5;28mprint\u001b[39m(\u001b[38;5;124m\"\u001b[39m\u001b[38;5;124mInvalid email format.\u001b[39m\u001b[38;5;124m\"\u001b[39m)\n",
      "File \u001b[0;32m/opt/anaconda3/lib/python3.11/site-packages/ipykernel/kernelbase.py:1262\u001b[0m, in \u001b[0;36mKernel.raw_input\u001b[0;34m(self, prompt)\u001b[0m\n\u001b[1;32m   1260\u001b[0m     msg \u001b[38;5;241m=\u001b[39m \u001b[38;5;124m\"\u001b[39m\u001b[38;5;124mraw_input was called, but this frontend does not support input requests.\u001b[39m\u001b[38;5;124m\"\u001b[39m\n\u001b[1;32m   1261\u001b[0m     \u001b[38;5;28;01mraise\u001b[39;00m StdinNotImplementedError(msg)\n\u001b[0;32m-> 1262\u001b[0m \u001b[38;5;28;01mreturn\u001b[39;00m \u001b[38;5;28mself\u001b[39m\u001b[38;5;241m.\u001b[39m_input_request(\n\u001b[1;32m   1263\u001b[0m     \u001b[38;5;28mstr\u001b[39m(prompt),\n\u001b[1;32m   1264\u001b[0m     \u001b[38;5;28mself\u001b[39m\u001b[38;5;241m.\u001b[39m_parent_ident[\u001b[38;5;124m\"\u001b[39m\u001b[38;5;124mshell\u001b[39m\u001b[38;5;124m\"\u001b[39m],\n\u001b[1;32m   1265\u001b[0m     \u001b[38;5;28mself\u001b[39m\u001b[38;5;241m.\u001b[39mget_parent(\u001b[38;5;124m\"\u001b[39m\u001b[38;5;124mshell\u001b[39m\u001b[38;5;124m\"\u001b[39m),\n\u001b[1;32m   1266\u001b[0m     password\u001b[38;5;241m=\u001b[39m\u001b[38;5;28;01mFalse\u001b[39;00m,\n\u001b[1;32m   1267\u001b[0m )\n",
      "File \u001b[0;32m/opt/anaconda3/lib/python3.11/site-packages/ipykernel/kernelbase.py:1305\u001b[0m, in \u001b[0;36mKernel._input_request\u001b[0;34m(self, prompt, ident, parent, password)\u001b[0m\n\u001b[1;32m   1302\u001b[0m \u001b[38;5;28;01mexcept\u001b[39;00m \u001b[38;5;167;01mKeyboardInterrupt\u001b[39;00m:\n\u001b[1;32m   1303\u001b[0m     \u001b[38;5;66;03m# re-raise KeyboardInterrupt, to truncate traceback\u001b[39;00m\n\u001b[1;32m   1304\u001b[0m     msg \u001b[38;5;241m=\u001b[39m \u001b[38;5;124m\"\u001b[39m\u001b[38;5;124mInterrupted by user\u001b[39m\u001b[38;5;124m\"\u001b[39m\n\u001b[0;32m-> 1305\u001b[0m     \u001b[38;5;28;01mraise\u001b[39;00m \u001b[38;5;167;01mKeyboardInterrupt\u001b[39;00m(msg) \u001b[38;5;28;01mfrom\u001b[39;00m \u001b[38;5;28;01mNone\u001b[39;00m\n\u001b[1;32m   1306\u001b[0m \u001b[38;5;28;01mexcept\u001b[39;00m \u001b[38;5;167;01mException\u001b[39;00m:\n\u001b[1;32m   1307\u001b[0m     \u001b[38;5;28mself\u001b[39m\u001b[38;5;241m.\u001b[39mlog\u001b[38;5;241m.\u001b[39mwarning(\u001b[38;5;124m\"\u001b[39m\u001b[38;5;124mInvalid Message:\u001b[39m\u001b[38;5;124m\"\u001b[39m, exc_info\u001b[38;5;241m=\u001b[39m\u001b[38;5;28;01mTrue\u001b[39;00m)\n",
      "\u001b[0;31mKeyboardInterrupt\u001b[0m: Interrupted by user"
     ]
    }
   ],
   "source": [
    "\n",
    "if __name__ == \"__main__\":\n",
    "    main()"
   ]
  }
 ],
 "metadata": {
  "kernelspec": {
   "display_name": "Python 3 (ipykernel)",
   "language": "python",
   "name": "python3"
  },
  "language_info": {
   "codemirror_mode": {
    "name": "ipython",
    "version": 3
   },
   "file_extension": ".py",
   "mimetype": "text/x-python",
   "name": "python",
   "nbconvert_exporter": "python",
   "pygments_lexer": "ipython3",
   "version": "3.11.7"
  }
 },
 "nbformat": 4,
 "nbformat_minor": 5
}
