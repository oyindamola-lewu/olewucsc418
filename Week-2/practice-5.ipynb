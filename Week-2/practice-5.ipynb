{
 "cells": [
  {
   "cell_type": "code",
   "execution_count": null,
   "id": "e60c07d0-d8cd-47fd-997c-f0847d484ff2",
   "metadata": {},
   "outputs": [],
   "source": [
    "#Import the necessary Libraries \n",
    "import cv2\n",
    "import matplotlib.pyplot as plt \n",
    "import numpy as np"
   ]
  },
  {
   "cell_type": "code",
   "execution_count": null,
   "id": "db1fe098-968d-4f73-a451-2a7475782b3b",
   "metadata": {},
   "outputs": [],
   "source": [
    "# Load the image\n",
    "image = cv2.imread('img/sst-foyer.jpg')"
   ]
  },
  {
   "cell_type": "code",
   "execution_count": null,
   "id": "d2de9d18-c2aa-44bb-8c21-c127c8ef1061",
   "metadata": {},
   "outputs": [],
   "source": [
    "#Plot the original image \n",
    "plt.subplot (1, 2, 1) "
   ]
  },
  {
   "cell_type": "code",
   "execution_count": null,
   "id": "9755ff9e-37ea-4194-aef2-dd24dd8dac55",
   "metadata": {},
   "outputs": [],
   "source": [
    "plt.title(\"Original\") "
   ]
  },
  {
   "cell_type": "code",
   "execution_count": null,
   "id": "d5ee8e12-28e0-43b3-a2e7-311d58827a87",
   "metadata": {},
   "outputs": [],
   "source": [
    "plt.imshow (image)"
   ]
  },
  {
   "cell_type": "code",
   "execution_count": null,
   "id": "e9459dc4-cf1e-49ab-a9b3-482193353310",
   "metadata": {},
   "outputs": [],
   "source": [
    "# Remove noise using a median filter\n",
    "filtered_image = cv2.medianBlur (image, 15)"
   ]
  },
  {
   "cell_type": "code",
   "execution_count": null,
   "id": "c6381363-f061-4824-9abb-0ee9b04f992e",
   "metadata": {},
   "outputs": [],
   "source": [
    "#Save the image\n",
    "cv2.imwrite('img/Median-Blur.jpg', filtered_image)"
   ]
  },
  {
   "cell_type": "code",
   "execution_count": null,
   "id": "b5863fcf-96c8-4203-98ef-a0a8068119cf",
   "metadata": {},
   "outputs": [],
   "source": [
    "#Plot the blured image \n",
    "plt.subplot (1, 2, 2) \n",
    "plt.title(\"Median Blur\") \n",
    "plt.imshow(filtered_image) \n",
    "plt.show ()"
   ]
  },
  {
   "cell_type": "code",
   "execution_count": null,
   "id": "dbecab54-71c5-4efe-84fe-d01b68e8c93f",
   "metadata": {},
   "outputs": [],
   "source": []
  }
 ],
 "metadata": {
  "kernelspec": {
   "display_name": "Python 3 (ipykernel)",
   "language": "python",
   "name": "python3"
  },
  "language_info": {
   "codemirror_mode": {
    "name": "ipython",
    "version": 3
   },
   "file_extension": ".py",
   "mimetype": "text/x-python",
   "name": "python",
   "nbconvert_exporter": "python",
   "pygments_lexer": "ipython3",
   "version": "3.11.7"
  }
 },
 "nbformat": 4,
 "nbformat_minor": 5
}
