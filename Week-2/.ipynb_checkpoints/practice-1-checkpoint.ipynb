{
 "cells": [
  {
   "cell_type": "code",
   "execution_count": null,
   "id": "96cc96d2-17ef-4085-8d58-0e2035a73047",
   "metadata": {},
   "outputs": [],
   "source": [
    "import cv2"
   ]
  },
  {
   "cell_type": "code",
   "execution_count": null,
   "id": "0ed4e62b-7965-4a19-a780-65c6b9b5915c",
   "metadata": {},
   "outputs": [],
   "source": [
    "image = cv2.imread ('Img/color-space.jpg')"
   ]
  },
  {
   "cell_type": "code",
   "execution_count": null,
   "id": "6fd893dc-25c6-46a4-b7f4-9f017d948746",
   "metadata": {},
   "outputs": [],
   "source": [
    "B, G, R = cv2.split(image)"
   ]
  },
  {
   "cell_type": "code",
   "execution_count": null,
   "id": "ad3f6e84-41aa-41e8-85b5-1753d0ea2ac9",
   "metadata": {},
   "outputs": [],
   "source": [
    "cv2.imshow(\"original\", image)"
   ]
  },
  {
   "cell_type": "code",
   "execution_count": null,
   "id": "0e15ca04-030d-41eb-803c-04c787885194",
   "metadata": {},
   "outputs": [],
   "source": [
    "cv2.waitKey (0)"
   ]
  },
  {
   "cell_type": "code",
   "execution_count": null,
   "id": "484ed40d-5581-4f50-9222-af717151d927",
   "metadata": {},
   "outputs": [],
   "source": [
    "cv2.imshow(\"blue\", B)"
   ]
  },
  {
   "cell_type": "code",
   "execution_count": null,
   "id": "e5dec39e-6762-410a-9c48-b24b2fa6b5a2",
   "metadata": {},
   "outputs": [],
   "source": [
    "cv2.waitKey(0)"
   ]
  },
  {
   "cell_type": "code",
   "execution_count": null,
   "id": "c44b4bfd-1d43-406f-a95d-0959aea68e41",
   "metadata": {},
   "outputs": [],
   "source": [
    "cv2. imshow (\"Green\", G)"
   ]
  },
  {
   "cell_type": "code",
   "execution_count": null,
   "id": "4d787ba9-42ac-4bc8-9cb3-a1d10b8bbf00",
   "metadata": {},
   "outputs": [],
   "source": [
    "cv2.waitKey(0)"
   ]
  },
  {
   "cell_type": "code",
   "execution_count": null,
   "id": "4e701078-dd44-4306-874c-e3b4194e5289",
   "metadata": {},
   "outputs": [],
   "source": [
    "cv2.imshow(\"red\", R)"
   ]
  },
  {
   "cell_type": "code",
   "execution_count": null,
   "id": "ad3e0871-f839-4953-b920-f938fd2986a6",
   "metadata": {},
   "outputs": [],
   "source": [
    "cv2.waitKey(0)"
   ]
  },
  {
   "cell_type": "code",
   "execution_count": null,
   "id": "c0d1f876-3935-4f83-9f7d-9f05376900b3",
   "metadata": {},
   "outputs": [],
   "source": [
    "cv2.destroyAllWindows ()"
   ]
  }
 ],
 "metadata": {
  "kernelspec": {
   "display_name": "Python 3 (ipykernel)",
   "language": "python",
   "name": "python3"
  },
  "language_info": {
   "codemirror_mode": {
    "name": "ipython",
    "version": 3
   },
   "file_extension": ".py",
   "mimetype": "text/x-python",
   "name": "python",
   "nbconvert_exporter": "python",
   "pygments_lexer": "ipython3",
   "version": "3.11.7"
  }
 },
 "nbformat": 4,
 "nbformat_minor": 5
}
