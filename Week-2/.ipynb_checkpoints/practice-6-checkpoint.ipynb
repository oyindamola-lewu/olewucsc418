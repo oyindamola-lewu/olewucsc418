{
 "cells": [
  {
   "cell_type": "code",
   "execution_count": null,
   "id": "847c47ca-2dfc-4a08-b2b1-b2fb1fc4624a",
   "metadata": {},
   "outputs": [],
   "source": [
    "#Import the necessary Libraries \n",
    "import cv2\n",
    "import matplotlib.pyplot as plt"
   ]
  },
  {
   "cell_type": "code",
   "execution_count": null,
   "id": "7193a799-5d6f-4b46-a6cf-799e7f468036",
   "metadata": {},
   "outputs": [],
   "source": [
    "# Load the image\n",
    "image = cv2. imread('img/sst.jpg')"
   ]
  },
  {
   "cell_type": "code",
   "execution_count": null,
   "id": "c135f5d2-7087-4338-8780-4018ce98c3ca",
   "metadata": {},
   "outputs": [],
   "source": [
    "#Plot the original image \n",
    "plt.subplot(1, 2, 1) \n",
    "plt.title(\"Original\") \n",
    "plt.imshow(image)"
   ]
  },
  {
   "cell_type": "code",
   "execution_count": null,
   "id": "d6020d13-9eb3-46e2-895e-708292c0b3ec",
   "metadata": {},
   "outputs": [],
   "source": [
    "# Scale the image by a factor of 2 along both axes\n",
    "scaled_image = cv2.resize (image, None, fx=2, fy=2)"
   ]
  },
  {
   "cell_type": "code",
   "execution_count": null,
   "id": "13cae0d7-1095-4557-9467-d62c8a4c9e0c",
   "metadata": {},
   "outputs": [],
   "source": [
    "#Save the image\n",
    "cv2.imwrite('img/Scaled.jpg', scaled_image)"
   ]
  },
  {
   "cell_type": "code",
   "execution_count": null,
   "id": "a39fa0d4-7dd0-49a6-9816-2b58377febfc",
   "metadata": {},
   "outputs": [],
   "source": [
    "#Plot the Scaled image \n",
    "plt.subplot (1, 2, 2) \n",
    "plt.title(\"Scaled\") \n",
    "plt.imshow(scaled_image) \n",
    "plt.show()"
   ]
  }
 ],
 "metadata": {
  "kernelspec": {
   "display_name": "Python 3 (ipykernel)",
   "language": "python",
   "name": "python3"
  },
  "language_info": {
   "codemirror_mode": {
    "name": "ipython",
    "version": 3
   },
   "file_extension": ".py",
   "mimetype": "text/x-python",
   "name": "python",
   "nbconvert_exporter": "python",
   "pygments_lexer": "ipython3",
   "version": "3.11.7"
  }
 },
 "nbformat": 4,
 "nbformat_minor": 5
}
