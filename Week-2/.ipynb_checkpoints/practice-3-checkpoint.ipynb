{
 "cells": [
  {
   "cell_type": "code",
   "execution_count": null,
   "id": "87a41efd-607f-4432-831f-b6b38f39a729",
   "metadata": {},
   "outputs": [],
   "source": [
    "import cV2"
   ]
  },
  {
   "cell_type": "code",
   "execution_count": null,
   "id": "f4dc0abb-61b4-4e29-b2b7-2599b86d71c2",
   "metadata": {},
   "outputs": [],
   "source": [
    "import matplotlib.pyplot as plt"
   ]
  },
  {
   "cell_type": "code",
   "execution_count": null,
   "id": "0a82f4ac-f090-41d9-b14f-fd91614f775c",
   "metadata": {},
   "outputs": [],
   "source": [
    "import numpy as np"
   ]
  },
  {
   "cell_type": "code",
   "execution_count": null,
   "id": "1eeaeac2-0020-468b-917c-615e6bc531bb",
   "metadata": {},
   "outputs": [],
   "source": [
    "image = cv2.imread('img/sst.jpg')"
   ]
  },
  {
   "cell_type": "code",
   "execution_count": null,
   "id": "ffea7e0a-c4c8-4296-8dec-747e571f749f",
   "metadata": {},
   "outputs": [],
   "source": [
    "plt.subplot (1, 2, 1)"
   ]
  },
  {
   "cell_type": "code",
   "execution_count": null,
   "id": "1e1a780b-ad56-4f89-a66d-9d7700866d2f",
   "metadata": {},
   "outputs": [],
   "source": [
    "plt.title(\"Original\")"
   ]
  },
  {
   "cell_type": "code",
   "execution_count": null,
   "id": "80e1c076-7d2d-46f5-aea4-79593e8d3945",
   "metadata": {},
   "outputs": [],
   "source": [
    "plt.imshow (image)"
   ]
  },
  {
   "cell_type": "code",
   "execution_count": null,
   "id": "7de728a2-15fe-44dd-86cf-c7ee85d489ac",
   "metadata": {},
   "outputs": [],
   "source": [
    "brightness = 5"
   ]
  },
  {
   "cell_type": "code",
   "execution_count": null,
   "id": "5135062f-4bdd-4409-a04e-239713e1c652",
   "metadata": {},
   "outputs": [],
   "source": [
    "contrast = 1.5"
   ]
  },
  {
   "cell_type": "code",
   "execution_count": null,
   "id": "4c7ed132-5ac6-4543-b65c-3085d2680c38",
   "metadata": {},
   "outputs": [],
   "source": [
    "image = cv2.addweighted(image, contrast, np.zeros (image.shape, image.dtype), 0, brightness)"
   ]
  },
  {
   "cell_type": "code",
   "execution_count": null,
   "id": "3fb0678d-a33e-45e5-b8e2-61869870b072",
   "metadata": {},
   "outputs": [],
   "source": [
    "cv2.imwrite('img/contrast image.jpg', image2)"
   ]
  },
  {
   "cell_type": "code",
   "execution_count": null,
   "id": "fb8786cb-dd68-4143-be8b-0ff394c69054",
   "metadata": {},
   "outputs": [],
   "source": [
    "plt.subplot(1, 2, 2)"
   ]
  },
  {
   "cell_type": "code",
   "execution_count": null,
   "id": "0b8a5545-d269-4919-adb8-b01212751f36",
   "metadata": {},
   "outputs": [],
   "source": [
    "plt.title(\"Brightness & contrast\")"
   ]
  },
  {
   "cell_type": "code",
   "execution_count": null,
   "id": "648cdc97-7898-4c2f-a25d-641b17e683fd",
   "metadata": {},
   "outputs": [],
   "source": [
    "plt.imshow(image2)"
   ]
  },
  {
   "cell_type": "code",
   "execution_count": null,
   "id": "318296a7-a4d8-45ce-af81-bb85280cb724",
   "metadata": {},
   "outputs": [],
   "source": [
    "plt.show()"
   ]
  },
  {
   "cell_type": "code",
   "execution_count": null,
   "id": "fbdb15c4-71de-4f20-9135-ae49a9fc19d3",
   "metadata": {},
   "outputs": [],
   "source": []
  }
 ],
 "metadata": {
  "kernelspec": {
   "display_name": "Python 3 (ipykernel)",
   "language": "python",
   "name": "python3"
  },
  "language_info": {
   "codemirror_mode": {
    "name": "ipython",
    "version": 3
   },
   "file_extension": ".py",
   "mimetype": "text/x-python",
   "name": "python",
   "nbconvert_exporter": "python",
   "pygments_lexer": "ipython3",
   "version": "3.11.7"
  }
 },
 "nbformat": 4,
 "nbformat_minor": 5
}
