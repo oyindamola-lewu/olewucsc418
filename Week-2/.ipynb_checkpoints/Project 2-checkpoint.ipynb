{
 "cells": [
  {
   "cell_type": "code",
   "execution_count": 1,
   "id": "0bcb2a3e-ab07-4464-abbf-1199ee3d8a0c",
   "metadata": {},
   "outputs": [],
   "source": [
    "import cv2"
   ]
  },
  {
   "cell_type": "code",
   "execution_count": null,
   "id": "0cf3647c",
   "metadata": {},
   "outputs": [],
   "source": [
    "def login():\n",
    "    # Function to prompt user for username and matno.\n",
    "    name = input(\"Enter your name: \")\n",
    "    matno = input(\"Enter your matno.: \")\n",
    "    return username, matno"
   ]
  },
  {
   "cell_type": "code",
   "execution_count": null,
   "id": "11bfbd97-6e58-47b9-8c9c-33939f8aa481",
   "metadata": {},
   "outputs": [],
   "source": [
    "def load_image(image_path):\n",
    "    # Function to load an image from file\n",
    "    image = cv2.imread(image_path)\n",
    "    return image"
   ]
  },
  {
   "cell_type": "code",
   "execution_count": null,
   "id": "fce3dfa6-54cc-4bc0-9752-766f58e8e1bc",
   "metadata": {},
   "outputs": [],
   "source": [
    "# def save_image(image, output_path):\n",
    "    # Function to save an image to file\n",
    "   # cv2.imwrite(output_path, image)"
   ]
  },
  {
   "cell_type": "code",
   "execution_count": null,
   "id": "8b21900f-0820-4beb-8fc2-6af152adb2f1",
   "metadata": {},
   "outputs": [],
   "source": [
    "def show_menu():\n",
    "    # Function to display the menu of enhancement techniques\n",
    "    print(\"Select an enhancement technique:\")\n",
    "    print(\"1. Technique 1\")\n",
    "    print(\"2. Technique 2\")\n",
    "    print(\"3. Technique 3\")\n",
    "    print(\"4. Technique 4\")\n",
    "    print(\"5. Technique 5\")\n",
    "    print(\"6. Technique 6\")\n",
    "    print(\"7. Technique 7\")"
   ]
  },
  {
   "cell_type": "code",
   "execution_count": null,
   "id": "4f718928-32cb-43b1-a0fd-228b11f24cae",
   "metadata": {},
   "outputs": [],
   "source": [
    "def apply_technique(image, technique):\n",
    "    # Function to apply selected enhancement technique to the image\n",
    "    if technique == 1:\n",
    "        # Apply Technique 1\n",
    "        pass\n",
    "    elif technique == 2:\n",
    "        # Apply Technique 2\n",
    "        pass\n",
    "    elif technique == 3:\n",
    "        # Apply Technique 3\n",
    "        pass\n",
    "    elif technique == 4:\n",
    "        # Apply Technique 4\n",
    "        pass\n",
    "    elif technique == 5:\n",
    "        # Apply Technique 5\n",
    "        pass \n",
    "    elif technique == 6:\n",
    "        # Apply Technique 6\n",
    "        pass\n",
    "    elif technique == 7:\n",
    "        # Apply Technique 7\n",
    "        pass\n",
    "    else:\n",
    "        print(\"Invalid technique selection\")"
   ]
  },
  {
   "cell_type": "code",
   "execution_count": null,
   "id": "087410bc-d9c4-4b03-bfa1-eb81b43bf81c",
   "metadata": {},
   "outputs": [],
   "source": [
    "def main():\n",
    "    name, matno = login()\n",
    "    image_path = f\"{name}{matno}.jpg\"   \n",
    "   # output_path = \"enhanced_image.jpg\"\n",
    "    image = load_image(image_path)\n",
    "\n",
    "    if image is not None:\n",
    "        show_menu()\n",
    "        technique = int(input(\"Enter technique number: \"))\n",
    "        apply_technique(image, technique)\n",
    "        # save_image(image, output_path)\n",
    "        print(\"Image enhancement completed.\")\n",
    "    else:\n",
    "        print(\"Failed to load image.\")"
   ]
  }
 ],
 "metadata": {
  "kernelspec": {
   "display_name": "Python 3 (ipykernel)",
   "language": "python",
   "name": "python3"
  },
  "language_info": {
   "codemirror_mode": {
    "name": "ipython",
    "version": 3
   },
   "file_extension": ".py",
   "mimetype": "text/x-python",
   "name": "python",
   "nbconvert_exporter": "python",
   "pygments_lexer": "ipython3",
   "version": "3.11.7"
  }
 },
 "nbformat": 4,
 "nbformat_minor": 5
}
