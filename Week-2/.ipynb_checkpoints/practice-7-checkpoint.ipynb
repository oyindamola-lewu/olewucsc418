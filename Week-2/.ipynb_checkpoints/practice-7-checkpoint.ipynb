{
 "cells": [
  {
   "cell_type": "code",
   "execution_count": null,
   "id": "1183d0d0-64a6-49c2-a59b-43bbc9a0c72d",
   "metadata": {},
   "outputs": [],
   "source": [
    "#Import the necessary libraries \n",
    "import cv2\n",
    "import matplotlib.pyplot as plt \n",
    "import numpy as np"
   ]
  },
  {
   "cell_type": "code",
   "execution_count": null,
   "id": "5e204581-14ed-43f1-a52f-de3e80c507ab",
   "metadata": {},
   "outputs": [],
   "source": [
    "# Load the image\n",
    "image = cv2.imread('img/sst-foyer.jpg')"
   ]
  },
  {
   "cell_type": "code",
   "execution_count": null,
   "id": "f56bb284-f383-4dad-b41b-e015c587ce6a",
   "metadata": {},
   "outputs": [],
   "source": [
    "#Plot the original image \n",
    "p1t. subplot(1, 2, 1) \n",
    "plt.title(\"Original\") \n",
    "plt.imshow(image)"
   ]
  },
  {
   "cell_type": "code",
   "execution_count": null,
   "id": "3bf69e90-d28e-4156-8989-bc6244c53639",
   "metadata": {},
   "outputs": [],
   "source": [
    "# Inverse by subtracting from 255\n",
    "inverse_image = 255 - image"
   ]
  },
  {
   "cell_type": "code",
   "execution_count": null,
   "id": "6216c09b-ed76-433c-ae60-f159e98743dc",
   "metadata": {},
   "outputs": [],
   "source": [
    "\n",
    "#Save the image\n",
    "cv2.imwrite('img/inverse_image.jpg', inverse_image)"
   ]
  },
  {
   "cell_type": "code",
   "execution_count": null,
   "id": "dad2cc4f-070f-4387-b1aa-7464c263536c",
   "metadata": {},
   "outputs": [],
   "source": [
    "#Plot the Inverse image \n",
    "plt.subplot (1, 2, 2) \n",
    "plt.title(\"Inverse color\") \n",
    "plt.imshow (inverse_image) \n",
    "plt.show()"
   ]
  }
 ],
 "metadata": {
  "kernelspec": {
   "display_name": "Python 3 (ipykernel)",
   "language": "python",
   "name": "python3"
  },
  "language_info": {
   "codemirror_mode": {
    "name": "ipython",
    "version": 3
   },
   "file_extension": ".py",
   "mimetype": "text/x-python",
   "name": "python",
   "nbconvert_exporter": "python",
   "pygments_lexer": "ipython3",
   "version": "3.11.7"
  }
 },
 "nbformat": 4,
 "nbformat_minor": 5
}
