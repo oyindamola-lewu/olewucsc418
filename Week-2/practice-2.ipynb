{
 "cells": [
  {
   "cell_type": "code",
   "execution_count": null,
   "id": "216239fe-356f-4561-9d27-9363859d3918",
   "metadata": {},
   "outputs": [],
   "source": [
    "import cv2"
   ]
  },
  {
   "cell_type": "code",
   "execution_count": null,
   "id": "d3713dee-e31e-464d-978f-4777e6fdadb6",
   "metadata": {},
   "outputs": [],
   "source": [
    "image = cv2.imread('img/sst.jpg')"
   ]
  },
  {
   "cell_type": "code",
   "execution_count": null,
   "id": "07850573-2fa7-4e02-b2ee-d5d08834d5f5",
   "metadata": {},
   "outputs": [],
   "source": [
    "image2 = cv2.imread('img/sst-foyer.jpg')"
   ]
  },
  {
   "cell_type": "code",
   "execution_count": null,
   "id": "1700bfe7-8979-4fac-a50c-df7dddde8845",
   "metadata": {},
   "outputs": [],
   "source": [
    "imagel= cv2.resize(image1, (500,400))"
   ]
  },
  {
   "cell_type": "code",
   "execution_count": null,
   "id": "9e389438-a441-4162-916f-a9753410eb5c",
   "metadata": {},
   "outputs": [],
   "source": [
    "image2= cv2.resize(image2, (500,400))"
   ]
  },
  {
   "cell_type": "code",
   "execution_count": null,
   "id": "6a54798e-b633-4932-9cf9-1ec40910b3cc",
   "metadata": {},
   "outputs": [],
   "source": [
    "addImage = cv2. addweighted (image1, 0.5, image2, 0.6, 0)"
   ]
  },
  {
   "cell_type": "code",
   "execution_count": null,
   "id": "5a4fc2c2-10db-485d-9738-2994c01ee709",
   "metadata": {},
   "outputs": [],
   "source": [
    "cv2. imshow('Weighted Image', addImage)"
   ]
  },
  {
   "cell_type": "code",
   "execution_count": null,
   "id": "65bd1830-7fc1-48c2-9de9-6734cc54342a",
   "metadata": {},
   "outputs": [],
   "source": [
    "if cv2.waitKey (0) & Oxff == 27:\n",
    "    cv2.destroyAllWindows ()"
   ]
  }
 ],
 "metadata": {
  "kernelspec": {
   "display_name": "Python 3 (ipykernel)",
   "language": "python",
   "name": "python3"
  },
  "language_info": {
   "codemirror_mode": {
    "name": "ipython",
    "version": 3
   },
   "file_extension": ".py",
   "mimetype": "text/x-python",
   "name": "python",
   "nbconvert_exporter": "python",
   "pygments_lexer": "ipython3",
   "version": "3.11.7"
  }
 },
 "nbformat": 4,
 "nbformat_minor": 5
}
