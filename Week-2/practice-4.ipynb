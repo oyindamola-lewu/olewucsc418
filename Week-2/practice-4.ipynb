{
 "cells": [
  {
   "cell_type": "code",
   "execution_count": null,
   "id": "9581bc08-87dc-4cce-b7e6-4f8a06c69229",
   "metadata": {},
   "outputs": [],
   "source": [
    "#Import the Libraries import cv2\n",
    "import matplotlib.pyplot as plt "
   ]
  },
  {
   "cell_type": "code",
   "execution_count": null,
   "id": "e58bca70-cc3a-4d55-b9d7-1f65cdc02b82",
   "metadata": {},
   "outputs": [],
   "source": [
    "import numpy as np"
   ]
  },
  {
   "cell_type": "code",
   "execution_count": null,
   "id": "343eab35-e6f3-4280-83da-f8eb9c332b69",
   "metadata": {},
   "outputs": [],
   "source": [
    "# Load the image\n",
    "image = cv2.imread('img/sst-foyer.jpg')"
   ]
  },
  {
   "cell_type": "code",
   "execution_count": null,
   "id": "fa64938c-f214-4344-a823-db397415631d",
   "metadata": {},
   "outputs": [],
   "source": [
    "#Plot the original image \n",
    "plt.subplot (1, 2, 1) "
   ]
  },
  {
   "cell_type": "code",
   "execution_count": null,
   "id": "ad6c2bd7-0113-4abb-acdc-f740b95c6da7",
   "metadata": {},
   "outputs": [],
   "source": [
    "plt.title(\"Original\") "
   ]
  },
  {
   "cell_type": "code",
   "execution_count": null,
   "id": "37f119ed-8fb4-463e-b892-44e109d5720b",
   "metadata": {},
   "outputs": [],
   "source": [
    "plt.imshow(image)"
   ]
  },
  {
   "cell_type": "code",
   "execution_count": null,
   "id": "d6ab0bcd-3d03-43e6-8c4f-6af87e5074f2",
   "metadata": {},
   "outputs": [],
   "source": [
    "# Create the sharpening kernel\n",
    "kernel = np.array ([[0, -1, 0], [-1, 5, -1], [0, -1, 0]])"
   ]
  },
  {
   "cell_type": "code",
   "execution_count": null,
   "id": "0be4b11f-3a2e-44c1-a0f7-44ba65a52ff0",
   "metadata": {},
   "outputs": [],
   "source": [
    "# Sharpen the image\n",
    "sharpened_image = cv2.filter2D(image, -1, kernel)"
   ]
  },
  {
   "cell_type": "code",
   "execution_count": null,
   "id": "236e6bdf-be85-4395-ab96-8aad52e16321",
   "metadata": {},
   "outputs": [],
   "source": [
    "#Save the image\n",
    "cv2.imwrite('img/sharpened_image.jpg', sharpened_image)"
   ]
  },
  {
   "cell_type": "code",
   "execution_count": null,
   "id": "e06d8a2e-9c0a-4110-925a-6acd604bbc12",
   "metadata": {},
   "outputs": [],
   "source": [
    "#Plot the sharpened image \n",
    "plt.subplot (1, 2, 2) "
   ]
  },
  {
   "cell_type": "code",
   "execution_count": null,
   "id": "f8fc8406-7f82-4e46-89c2-1d6d228d944d",
   "metadata": {},
   "outputs": [],
   "source": [
    "plt.title(\"Sharpening\") "
   ]
  },
  {
   "cell_type": "code",
   "execution_count": null,
   "id": "175e7dd2-2f91-4488-b0ab-81b8679293ab",
   "metadata": {},
   "outputs": [],
   "source": [
    "plt.imshow(sharpened image) "
   ]
  },
  {
   "cell_type": "code",
   "execution_count": null,
   "id": "0f55d036-8c70-4b34-a5e4-9d20edd849bc",
   "metadata": {},
   "outputs": [],
   "source": [
    "plt.show()"
   ]
  }
 ],
 "metadata": {
  "kernelspec": {
   "display_name": "Python 3 (ipykernel)",
   "language": "python",
   "name": "python3"
  },
  "language_info": {
   "codemirror_mode": {
    "name": "ipython",
    "version": 3
   },
   "file_extension": ".py",
   "mimetype": "text/x-python",
   "name": "python",
   "nbconvert_exporter": "python",
   "pygments_lexer": "ipython3",
   "version": "3.11.7"
  }
 },
 "nbformat": 4,
 "nbformat_minor": 5
}
