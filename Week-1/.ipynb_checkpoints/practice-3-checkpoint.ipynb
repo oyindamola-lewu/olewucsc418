{
 "cells": [
  {
   "cell_type": "code",
   "execution_count": 1,
   "id": "5b9085d1-0711-47b5-9e55-bc8627b388ba",
   "metadata": {},
   "outputs": [],
   "source": [
    "import cv2"
   ]
  },
  {
   "cell_type": "code",
   "execution_count": 2,
   "id": "3a019e05-7b6d-4176-8018-9f7b7d06068d",
   "metadata": {},
   "outputs": [],
   "source": [
    "import os"
   ]
  },
  {
   "cell_type": "code",
   "execution_count": 4,
   "id": "d229ae13-a213-4398-8635-56c141ba5ea7",
   "metadata": {},
   "outputs": [],
   "source": [
    "image_path = r'Desktop/Coursework/CSC 418 | Special Topics CS/week-1/img/amangiri.jpg'"
   ]
  },
  {
   "cell_type": "code",
   "execution_count": 5,
   "id": "6ab39c50-1f3b-4351-895b-f64703a37fa4",
   "metadata": {},
   "outputs": [],
   "source": [
    "directory = r'Desktop/Coursework/CSC 418 | Special Topics CS/week-1/img'"
   ]
  },
  {
   "cell_type": "code",
   "execution_count": 6,
   "id": "e11999a1-dffc-4446-a7b8-bc6a650420bf",
   "metadata": {},
   "outputs": [
    {
     "name": "stderr",
     "output_type": "stream",
     "text": [
      "[ WARN:0@80.377] global /private/var/folders/k1/30mswbxs7r1g6zwn8y4fyt500000gp/T/abs_11nitadzeg/croot/opencv-suite_1691620374638/work/modules/imgcodecs/src/loadsave.cpp (239) findDecoder imread_('Desktop/Coursework/CSC 418 | Special Topics CS/week-1/img/amangiri.jpg'): can't open/read file: check file path/integrity\n"
     ]
    }
   ],
   "source": [
    "img = cv2. imread (image_path, 0)"
   ]
  },
  {
   "cell_type": "code",
   "execution_count": null,
   "id": "245dfcfa-ac2a-470c-8998-bea28dd559b8",
   "metadata": {},
   "outputs": [],
   "source": [
    "os.chdir (directory)"
   ]
  },
  {
   "cell_type": "code",
   "execution_count": null,
   "id": "817b8555-4627-439f-af8e-db9c2086b52e",
   "metadata": {},
   "outputs": [],
   "source": [
    "print(\"Before saving image:\")"
   ]
  },
  {
   "cell_type": "code",
   "execution_count": null,
   "id": "afa1c91d-c232-4160-a4bf-81cfe62627f6",
   "metadata": {},
   "outputs": [],
   "source": [
    "print(os.listdir(directory))"
   ]
  },
  {
   "cell_type": "code",
   "execution_count": null,
   "id": "a360ede4-edca-4067-96de-10b1ffcdd576",
   "metadata": {},
   "outputs": [],
   "source": [
    "filename = 'grayImage. jpg'"
   ]
  },
  {
   "cell_type": "code",
   "execution_count": null,
   "id": "9caa446e-9c48-409d-adb5-d83670e316d5",
   "metadata": {},
   "outputs": [],
   "source": [
    "cv2.imwrite(filename, img)"
   ]
  },
  {
   "cell_type": "code",
   "execution_count": null,
   "id": "c0fd1305-d50e-436e-a4fa-9d05937d965c",
   "metadata": {},
   "outputs": [],
   "source": [
    "print(\"After saving image:\")"
   ]
  },
  {
   "cell_type": "code",
   "execution_count": null,
   "id": "ac72788e-a4ef-4b20-be2a-e0f86ff7c0ad",
   "metadata": {},
   "outputs": [],
   "source": [
    "print(os.listdir (directory))"
   ]
  },
  {
   "cell_type": "code",
   "execution_count": null,
   "id": "013c0c97-d70d-4430-b07f-fba2bf39f6f3",
   "metadata": {},
   "outputs": [],
   "source": [
    "print('Successfully saved')"
   ]
  }
 ],
 "metadata": {
  "kernelspec": {
   "display_name": "Python 3 (ipykernel)",
   "language": "python",
   "name": "python3"
  },
  "language_info": {
   "codemirror_mode": {
    "name": "ipython",
    "version": 3
   },
   "file_extension": ".py",
   "mimetype": "text/x-python",
   "name": "python",
   "nbconvert_exporter": "python",
   "pygments_lexer": "ipython3",
   "version": "3.11.7"
  }
 },
 "nbformat": 4,
 "nbformat_minor": 5
}
