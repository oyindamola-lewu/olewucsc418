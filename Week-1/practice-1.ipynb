{
 "cells": [
  {
   "cell_type": "code",
   "execution_count": 1,
   "id": "58b3b50e-203c-42f8-ad1e-16d7f7f0ec34",
   "metadata": {},
   "outputs": [],
   "source": [
    "import cv2"
   ]
  },
  {
   "cell_type": "code",
   "execution_count": 2,
   "id": "a2a87cb0-bf4e-4085-b4b6-44201176da7e",
   "metadata": {},
   "outputs": [],
   "source": [
    "path = 'img/amanpuri.jpg'"
   ]
  },
  {
   "cell_type": "code",
   "execution_count": 3,
   "id": "683e4e0f-0f78-4538-a4ae-422330ae4223",
   "metadata": {},
   "outputs": [],
   "source": [
    "img = cv2.imread (path)"
   ]
  },
  {
   "cell_type": "code",
   "execution_count": 6,
   "id": "2352ddb0-6ee3-45fd-b60d-a6d4e5a5e149",
   "metadata": {},
   "outputs": [],
   "source": [
    "window_name = 'Display Image'"
   ]
  },
  {
   "cell_type": "code",
   "execution_count": 7,
   "id": "bb3ba0d3-552d-45a7-a47d-15b5e76c82fc",
   "metadata": {},
   "outputs": [],
   "source": [
    "cv2.imshow(window_name,img)"
   ]
  },
  {
   "cell_type": "code",
   "execution_count": null,
   "id": "32f47112-b1eb-4886-b829-2d89cd632fa0",
   "metadata": {},
   "outputs": [],
   "source": [
    "cv2.waitKey(0)"
   ]
  },
  {
   "cell_type": "code",
   "execution_count": null,
   "id": "6cc93b09-38c1-4fca-b3f7-35ee99bc2555",
   "metadata": {},
   "outputs": [],
   "source": [
    "cv2.destroyAllwindows()"
   ]
  },
  {
   "cell_type": "code",
   "execution_count": null,
   "id": "4923ec4a-40d0-4d6a-af1b-6c085f62aa58",
   "metadata": {},
   "outputs": [],
   "source": []
  }
 ],
 "metadata": {
  "kernelspec": {
   "display_name": "Python 3 (ipykernel)",
   "language": "python",
   "name": "python3"
  },
  "language_info": {
   "codemirror_mode": {
    "name": "ipython",
    "version": 3
   },
   "file_extension": ".py",
   "mimetype": "text/x-python",
   "name": "python",
   "nbconvert_exporter": "python",
   "pygments_lexer": "ipython3",
   "version": "3.11.7"
  }
 },
 "nbformat": 4,
 "nbformat_minor": 5
}
