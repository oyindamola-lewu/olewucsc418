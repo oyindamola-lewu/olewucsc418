{
 "cells": [
  {
   "cell_type": "code",
   "execution_count": 1,
   "id": "9b1e3c81-c469-482b-9d1f-4fce49ea70e8",
   "metadata": {},
   "outputs": [],
   "source": [
    "import cv2"
   ]
  },
  {
   "cell_type": "code",
   "execution_count": 2,
   "id": "1e33acae-250d-42fa-ad96-0341360d1cb7",
   "metadata": {},
   "outputs": [],
   "source": [
    "path = 'img/amangiri.jpg'"
   ]
  },
  {
   "cell_type": "code",
   "execution_count": 3,
   "id": "20335841-7964-468b-b074-3648b25d717f",
   "metadata": {},
   "outputs": [],
   "source": [
    "img = cv2.imread (path, 0)"
   ]
  },
  {
   "cell_type": "code",
   "execution_count": 4,
   "id": "b5922e66-4c8e-489d-bb80-17b4c937d558",
   "metadata": {},
   "outputs": [],
   "source": [
    "window_name = 'Display Image'"
   ]
  },
  {
   "cell_type": "code",
   "execution_count": 5,
   "id": "948753ba-c338-4a94-8f04-c89bcb1d3cf1",
   "metadata": {},
   "outputs": [],
   "source": [
    "cv2.imshow(window_name,img)"
   ]
  },
  {
   "cell_type": "code",
   "execution_count": null,
   "id": "87c48486-8d09-457b-a859-d0d43f731767",
   "metadata": {},
   "outputs": [],
   "source": [
    "cv2.waitKey(0)"
   ]
  },
  {
   "cell_type": "code",
   "execution_count": null,
   "id": "6b1f949a-c212-46e1-a047-60cdc7d741d5",
   "metadata": {},
   "outputs": [],
   "source": [
    "cv2.destroyAllwindows()"
   ]
  }
 ],
 "metadata": {
  "kernelspec": {
   "display_name": "Python 3 (ipykernel)",
   "language": "python",
   "name": "python3"
  },
  "language_info": {
   "codemirror_mode": {
    "name": "ipython",
    "version": 3
   },
   "file_extension": ".py",
   "mimetype": "text/x-python",
   "name": "python",
   "nbconvert_exporter": "python",
   "pygments_lexer": "ipython3",
   "version": "3.11.7"
  }
 },
 "nbformat": 4,
 "nbformat_minor": 5
}
