{
 "cells": [
  {
   "cell_type": "code",
   "execution_count": 6,
   "id": "36beb77b-1b0a-4d0b-9bc7-a645bf0fa975",
   "metadata": {},
   "outputs": [],
   "source": [
    "import cv2"
   ]
  },
  {
   "cell_type": "code",
   "execution_count": 7,
   "id": "3f3ec53a-aefa-4455-9437-afcaa6d13db4",
   "metadata": {},
   "outputs": [],
   "source": [
    "def sum_of_alphabets(string):\n",
    "    return sum(1 for char in string if char.isalpha())"
   ]
  },
  {
   "cell_type": "code",
   "execution_count": 8,
   "id": "b6cdae60-3ffb-4c63-b964-a88382e517a2",
   "metadata": {},
   "outputs": [],
   "source": [
    "def display_profile(image_path):\n",
    "    img = cv2.imread(image_path, 0)\n",
    "    window_name = 'User Image'\n",
    "    cv2.imshow(window_name,img)\n",
    "    cv2.waitKey(0)"
   ]
  },
  {
   "cell_type": "code",
   "execution_count": 9,
   "id": "a8e6c93b-79fe-4a04-92a5-e7d74c1d0d8b",
   "metadata": {},
   "outputs": [],
   "source": [
    "def main():\n",
    "    username = input(\"Enter your first name: \")\n",
    "    surname = input(\"Enter your surname: \")\n",
    "    \n",
    "    password = sum_of_alphabets(surname)\n",
    "    \n",
    "    print(\"Logging in with username:\", username)\n",
    "\n",
    "    auth_password = int(input(\"Enter password: \"))\n",
    "    if auth_password == password:\n",
    "        print(\"Password correct.\")\n",
    "        image_path = \"img/\" + username + \".jpg\"\n",
    "        display_profile(image_path)\n",
    "    else:\n",
    "        print(\"Password wrong.\")\n",
    "        quit()"
   ]
  },
  {
   "cell_type": "code",
   "execution_count": 10,
   "id": "e819540e",
   "metadata": {},
   "outputs": [
    {
     "name": "stdout",
     "output_type": "stream",
     "text": [
      "Logging in with username: enase\n",
      "Password correct.\n"
     ]
    }
   ],
   "source": [
    "if __name__ == \"__main__\":\n",
    "    main()"
   ]
  }
 ],
 "metadata": {
  "kernelspec": {
   "display_name": "Python 3 (ipykernel)",
   "language": "python",
   "name": "python3"
  },
  "language_info": {
   "codemirror_mode": {
    "name": "ipython",
    "version": 3
   },
   "file_extension": ".py",
   "mimetype": "text/x-python",
   "name": "python",
   "nbconvert_exporter": "python",
   "pygments_lexer": "ipython3",
   "version": "3.11.7"
  }
 },
 "nbformat": 4,
 "nbformat_minor": 5
}
