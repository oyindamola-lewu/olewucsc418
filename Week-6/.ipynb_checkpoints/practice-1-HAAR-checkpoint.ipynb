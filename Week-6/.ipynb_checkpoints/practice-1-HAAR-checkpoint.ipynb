{
 "cells": [
  {
   "cell_type": "code",
   "execution_count": null,
   "id": "d750c0bf-638e-4d4f-96d7-3430060ae56b",
   "metadata": {},
   "outputs": [],
   "source": [
    "import cv2"
   ]
  },
  {
   "cell_type": "code",
   "execution_count": null,
   "id": "9caf2c2b-d70a-400e-a01b-f9d8190597b2",
   "metadata": {},
   "outputs": [],
   "source": [
    "# Load the pre-trained Haar Cascade face detection model\n",
    "face_cascade = cv2.CascadeClassifier (cv2.data.haarcascades + 'haarcascade_ frontalface_default.xm]')"
   ]
  },
  {
   "cell_type": "code",
   "execution_count": null,
   "id": "297434c3-cdf3-4f10-9da8-18dff7054ca7",
   "metadata": {},
   "outputs": [],
   "source": [
    "# Load the input image\n",
    "image = cv2.imread('img/tic.jpg')\n",
    "# resize images\n",
    "image= cv2.resize(image, (770,570))"
   ]
  },
  {
   "cell_type": "code",
   "execution_count": null,
   "id": "8bdb1306-ed96-4010-b024-7a5ab9b11d51",
   "metadata": {},
   "outputs": [],
   "source": [
    "# Convert the image to grayscale\n",
    "gray_image = cv2.cvtColor(image, cv2.COLOR_BGR2GRAY)"
   ]
  },
  {
   "cell_type": "code",
   "execution_count": null,
   "id": "92cabd67-a1bc-49d5-b3c7-2665b93b73bc",
   "metadata": {},
   "outputs": [],
   "source": [
    "# Perform face detection\n",
    "faces = face cascade.detectMultiScale(gray_image, scaleFactor=1.3, minNeighbors=5, minsize=(10, 30))"
   ]
  },
  {
   "cell_type": "code",
   "execution_count": null,
   "id": "32708b98-27e3-4198-b2d4-a23bb98a3a72",
   "metadata": {},
   "outputs": [],
   "source": [
    "# Draw bounding boxes around the detected faces\n",
    "for (x, Y, w, h) in faces:\n",
    "    cv2.rectangle(image, (x, y), (x+w, y+h), (0, 255, 0), 2)"
   ]
  },
  {
   "cell_type": "code",
   "execution_count": null,
   "id": "8cf203ff-03e1-43bd-a462-fabfb11226fc",
   "metadata": {},
   "outputs": [],
   "source": [
    "# Display the output image\n",
    "cv2.imshow('Face Detection', image) \n",
    "cv2.waitKey(0) \n",
    "cv2.destroyAllWindows)"
   ]
  }
 ],
 "metadata": {
  "kernelspec": {
   "display_name": "Python 3 (ipykernel)",
   "language": "python",
   "name": "python3"
  },
  "language_info": {
   "codemirror_mode": {
    "name": "ipython",
    "version": 3
   },
   "file_extension": ".py",
   "mimetype": "text/x-python",
   "name": "python",
   "nbconvert_exporter": "python",
   "pygments_lexer": "ipython3",
   "version": "3.11.7"
  }
 },
 "nbformat": 4,
 "nbformat_minor": 5
}
