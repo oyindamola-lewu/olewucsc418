{
 "cells": [
  {
   "cell_type": "code",
   "execution_count": 25,
   "id": "879b4caa-3ff9-4d5b-b7e5-0c1091c3b192",
   "metadata": {},
   "outputs": [],
   "source": [
    "import cv2\n",
    "import numpy as np"
   ]
  },
  {
   "cell_type": "code",
   "execution_count": 26,
   "id": "b6892334-4e9f-4497-bfe1-e1a3c185a64e",
   "metadata": {},
   "outputs": [],
   "source": [
    "# Load YOLO\n",
    "net = cv2.dnn.readNet ('cfg/yolov3.weights', 'cfg/yolov3.cfg')\n",
    "classes = []\n",
    "with open('cfg/coco.names', 'r') as f:\n",
    "    classes = f.read().splitlines ()"
   ]
  },
  {
   "cell_type": "code",
   "execution_count": 27,
   "id": "01a26596-f968-4240-bbb5-d1cdf5d258f8",
   "metadata": {},
   "outputs": [],
   "source": [
    "# Load input image\n",
    "image = cv2.imread('Images/friends.jpg')\n",
    "height, width, _ = image.shape"
   ]
  },
  {
   "cell_type": "code",
   "execution_count": 28,
   "id": "31588d03-acdc-4461-b5d0-3ff590a9c503",
   "metadata": {},
   "outputs": [],
   "source": [
    "# Preprocess input image\n",
    "blob = cv2.dnn.blobFromImage(image, 1/255.0, (416, 416), swapRB=True, crop=False)\n",
    "net.setInput(blob)"
   ]
  },
  {
   "cell_type": "code",
   "execution_count": 29,
   "id": "a548c6be-4ae7-40ad-bf72-0570085b6320",
   "metadata": {},
   "outputs": [],
   "source": [
    "# Forward pass through the network\n",
    "output_layers_names = net.getUnconnectedOutLayersNames()\n",
    "layer_outputs = net.forward(output_layers_names)\n"
   ]
  },
  {
   "cell_type": "code",
   "execution_count": 30,
   "id": "c2b72474-1471-4fce-91d9-106298b6b2e0",
   "metadata": {},
   "outputs": [],
   "source": [
    "# Process detection results\n",
    "boxes = []\n",
    "confidences = []\n",
    "class_ids = []"
   ]
  },
  {
   "cell_type": "code",
   "execution_count": 31,
   "id": "59b75b17-a62e-4469-b6e3-480deeef248e",
   "metadata": {},
   "outputs": [],
   "source": [
    "for output in layer_outputs: \n",
    "    for detection in output:\n",
    "        scores = detection[5:]\n",
    "        class_id = np.argmax(scores)\n",
    "        confidence = scores[class_id]\n",
    "        if confidence > 0.5:\n",
    "            center_x = int(detection[0] * width)\n",
    "            center_y = int(detection[1] * height)\n",
    "            w = int(detection[2] * width)\n",
    "            h = int(detection[3] * height)\n",
    "\n",
    "            x = int(center_x - w / 2)\n",
    "            y = int(center_y - h / 2)\n",
    "\n",
    "            boxes.append([x, y, w, h])\n",
    "            confidences.append(float(confidence))\n",
    "            class_ids.append(class_id)"
   ]
  },
  {
   "cell_type": "code",
   "execution_count": 32,
   "id": "0dc21bd6-f3ca-4758-a0b5-d62413ca3520",
   "metadata": {},
   "outputs": [],
   "source": [
    "# Non-max suppression to remove redundant overlapping boxes\n",
    "indexes = cv2.dnn.NMSBoxes (boxes, confidences, 0.5, 0.4)\n",
    "\n",
    "font = cv2.FONT_HERSHEY_PLAIN\n",
    "colors = np.random.uniform(0, 255, size=(len(classes), 3))"
   ]
  },
  {
   "cell_type": "code",
   "execution_count": 33,
   "id": "0d8a4538-6bd0-48cd-b3f5-ed938c4dbe65",
   "metadata": {},
   "outputs": [],
   "source": [
    "# Draw bounding boxes and labels\n",
    "for i in indexes.flatten():\n",
    "    x, y, w, h = boxes[i]\n",
    "    label = str(classes[class_ids[i]])\n",
    "    confidence = str(round(confidences [i], 2))\n",
    "    color = colors[i]\n",
    "    cv2.rectangle (image, (x, y), (x+w, y+h), color, 2)\n",
    "    cv2.putText (image, label + \" \" + confidence, (x, y + 20), font, 2, (255,255,255), 2)"
   ]
  },
  {
   "cell_type": "code",
   "execution_count": 34,
   "id": "ae76ed17-677b-4930-9d59-2960bb6a03cd",
   "metadata": {},
   "outputs": [],
   "source": [
    "# Display the output image\n",
    "cv2.imshow('Image', image)\n",
    "cv2.waitKey(0)\n",
    "cv2.destroyAllWindows()"
   ]
  }
 ],
 "metadata": {
  "kernelspec": {
   "display_name": "Python 3 (ipykernel)",
   "language": "python",
   "name": "python3"
  },
  "language_info": {
   "codemirror_mode": {
    "name": "ipython",
    "version": 3
   },
   "file_extension": ".py",
   "mimetype": "text/x-python",
   "name": "python",
   "nbconvert_exporter": "python",
   "pygments_lexer": "ipython3",
   "version": "3.11.7"
  }
 },
 "nbformat": 4,
 "nbformat_minor": 5
}
