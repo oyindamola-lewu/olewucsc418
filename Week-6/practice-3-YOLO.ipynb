{
 "cells": [
  {
   "cell_type": "code",
   "execution_count": 1,
   "id": "879b4caa-3ff9-4d5b-b7e5-0c1091c3b192",
   "metadata": {},
   "outputs": [],
   "source": [
    "import cv2\n",
    "import numpy as np"
   ]
  },
  {
   "cell_type": "code",
   "execution_count": 2,
   "id": "b6892334-4e9f-4497-bfe1-e1a3c185a64e",
   "metadata": {},
   "outputs": [
    {
     "ename": "AttributeError",
     "evalue": "module 'cv2' has no attribute 'dnn'",
     "output_type": "error",
     "traceback": [
      "\u001b[0;31m---------------------------------------------------------------------------\u001b[0m",
      "\u001b[0;31mAttributeError\u001b[0m                            Traceback (most recent call last)",
      "Cell \u001b[0;32mIn[2], line 2\u001b[0m\n\u001b[1;32m      1\u001b[0m \u001b[38;5;66;03m# Load YOLO\u001b[39;00m\n\u001b[0;32m----> 2\u001b[0m net \u001b[38;5;241m=\u001b[39m cv2\u001b[38;5;241m.\u001b[39mdnn\u001b[38;5;241m.\u001b[39mreadNet (\u001b[38;5;124m'\u001b[39m\u001b[38;5;124mcfg/yolov3.weights\u001b[39m\u001b[38;5;124m'\u001b[39m, \u001b[38;5;124m'\u001b[39m\u001b[38;5;124mcfg/yolov3.cfg\u001b[39m\u001b[38;5;124m'\u001b[39m)\n\u001b[1;32m      3\u001b[0m classes \u001b[38;5;241m=\u001b[39m []\n\u001b[1;32m      4\u001b[0m \u001b[38;5;28;01mwith\u001b[39;00m \u001b[38;5;28mopen\u001b[39m(\u001b[38;5;124m'\u001b[39m\u001b[38;5;124mcfg/coco.names\u001b[39m\u001b[38;5;124m'\u001b[39m, \u001b[38;5;124m'\u001b[39m\u001b[38;5;124mr\u001b[39m\u001b[38;5;124m'\u001b[39m) \u001b[38;5;28;01mas\u001b[39;00m f:\n",
      "\u001b[0;31mAttributeError\u001b[0m: module 'cv2' has no attribute 'dnn'"
     ]
    }
   ],
   "source": [
    "# Load YOLO\n",
    "net = cv2.dnn.readNet ('cfg/yolov3.weights', 'cfg/yolov3.cfg')\n",
    "classes = []\n",
    "with open('cfg/coco.names', 'r') as f:\n",
    "    classes = f.read().splitlines ()"
   ]
  },
  {
   "cell_type": "code",
   "execution_count": null,
   "id": "01a26596-f968-4240-bbb5-d1cdf5d258f8",
   "metadata": {},
   "outputs": [],
   "source": [
    "# Load input image\n",
    "image = cv2.imread('img/lake.jpg')\n",
    "height, width, _ = image.shape"
   ]
  },
  {
   "cell_type": "code",
   "execution_count": null,
   "id": "31588d03-acdc-4461-b5d0-3ff590a9c503",
   "metadata": {},
   "outputs": [],
   "source": [
    "# Preprocess input image\n",
    "blob = cv2.dnn.blobFromImage(image, 1/255.0, (416, 416), swapRB=True, crop=False)\n",
    "net.setInput(blob)"
   ]
  },
  {
   "cell_type": "code",
   "execution_count": null,
   "id": "a548c6be-4ae7-40ad-bf72-0570085b6320",
   "metadata": {},
   "outputs": [],
   "source": [
    "# Forward pass through the network\n",
    "output_layers_names = net.getUnconnectedOutLayersNames()\n",
    "layer_outputs = net.forward(output_layers_names)\n"
   ]
  },
  {
   "cell_type": "code",
   "execution_count": null,
   "id": "c2b72474-1471-4fce-91d9-106298b6b2e0",
   "metadata": {},
   "outputs": [],
   "source": [
    "# Process detection results\n",
    "boxes = []\n",
    "confidences = []\n",
    "class_ids = []"
   ]
  },
  {
   "cell_type": "code",
   "execution_count": null,
   "id": "59b75b17-a62e-4469-b6e3-480deeef248e",
   "metadata": {},
   "outputs": [],
   "source": [
    "for output in layer outputs: \n",
    "    for detection in output:\n",
    "    scores = detection[5:1\n",
    "    class_id = np.argmax(scores)\n",
    "    confidence = scores[class idl\n",
    "        if confidence > 0.5:\n",
    "        center x = int(detection[01 * width)\n",
    "        center y = in(detection[11 * height)\n",
    "        w = int(detection[2] * width)\n",
    "        h = int(detection[3] * height)\n",
    "\n",
    "        × = int(center x - w / 2)\n",
    "        y = int(center y - h / 2)\n",
    "\n",
    "        boxes.append([x, Y, w, h])\n",
    "        confidences.append(float (confidence))\n",
    "        class_ids.append(class_id)"
   ]
  },
  {
   "cell_type": "code",
   "execution_count": null,
   "id": "0dc21bd6-f3ca-4758-a0b5-d62413ca3520",
   "metadata": {},
   "outputs": [],
   "source": [
    "# Non-max suppression to remove redundant overlapping boxes\n",
    "indexes = cv2.dnn.NMSBoxes (boxes, confidences, 0.5, 0.4)\n",
    "\n",
    "font = cv2.FONT_HERSHEY_PLAIN\n",
    "colors = np.random.uniform(0, 255, size=(len(classes), 3))"
   ]
  },
  {
   "cell_type": "code",
   "execution_count": null,
   "id": "0d8a4538-6bd0-48cd-b3f5-ed938c4dbe65",
   "metadata": {},
   "outputs": [],
   "source": [
    "# Draw bounding boxes and labels\n",
    "for i in indexes.flatten():\n",
    "    x, y, w, h = boxes[i]\n",
    "    label = str(classes[class_ids[i]])\n",
    "    confidence = str(round(confidences [i], 2))\n",
    "    color = colors[i]\n",
    "    cv2.rectangle (image, (x, y), (x+w, y+h), color, 2)\n",
    "    cv2.putText (image, label + \" \" + confidence, (x, y + 20), font, 2, (255,255,255), 2)"
   ]
  },
  {
   "cell_type": "code",
   "execution_count": null,
   "id": "ae76ed17-677b-4930-9d59-2960bb6a03cd",
   "metadata": {},
   "outputs": [],
   "source": [
    "# Display the output image\n",
    "cv2.imshow('Image', image)\n",
    "cv2.waitKey(0)\n",
    "cv2.destroyAllWindows()"
   ]
  }
 ],
 "metadata": {
  "kernelspec": {
   "display_name": "Python 3 (ipykernel)",
   "language": "python",
   "name": "python3"
  },
  "language_info": {
   "codemirror_mode": {
    "name": "ipython",
    "version": 3
   },
   "file_extension": ".py",
   "mimetype": "text/x-python",
   "name": "python",
   "nbconvert_exporter": "python",
   "pygments_lexer": "ipython3",
   "version": "3.11.7"
  }
 },
 "nbformat": 4,
 "nbformat_minor": 5
}
