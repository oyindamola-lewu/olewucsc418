{
 "cells": [
  {
   "cell_type": "code",
   "execution_count": null,
   "id": "1cfc80f3-229a-483a-83ba-18cd5a46b4f6",
   "metadata": {},
   "outputs": [],
   "source": [
    "import cv2\n",
    "from matplotlib import pyplot as plt"
   ]
  },
  {
   "cell_type": "code",
   "execution_count": null,
   "id": "26dd3afb-78dc-4e0d-8a4e-b7e5b06c33f8",
   "metadata": {},
   "outputs": [],
   "source": [
    "# Opening image\n",
    "img = cv2.imread(\"img/friends. jpg\")"
   ]
  },
  {
   "cell_type": "code",
   "execution_count": null,
   "id": "beabd387-3131-4001-974f-c945efd33f14",
   "metadata": {},
   "outputs": [],
   "source": [
    "# OpenCV opens images as BRG\n",
    "# but we want it as RGB We'Ll\n",
    "# also need a grayscale version\n",
    "img_gray = cv2.cvtColor (img, cv2.COLOR_BGR2GRAY)\n",
    "img_rgb = cv2.cvtColor (img, cv2.COLOR_BGR2RGB)"
   ]
  },
  {
   "cell_type": "code",
   "execution_count": null,
   "id": "fd20d369-57fc-4be7-ab65-8f2214dd35ed",
   "metadata": {},
   "outputs": [],
   "source": [
    "# Perform face detection\n",
    "face_data = cv2.CascadeClassifier('haarcascade_frontalface_default.xm]')\n",
    "found = face_data.detectMultiScale(img_gray,\n",
    "minSize = (20, 20))"
   ]
  },
  {
   "cell_type": "code",
   "execution_count": null,
   "id": "195af114-a034-4024-9ab4-01d6789ce52d",
   "metadata": {},
   "outputs": [],
   "source": [
    "# Don't do anything if there's no sign\n",
    "amount found = len(found)"
   ]
  },
  {
   "cell_type": "code",
   "execution_count": null,
   "id": "3a3188a7-ef9c-4b4f-ae69-6364dd35d3be",
   "metadata": {},
   "outputs": [],
   "source": [
    "if amount found != 0:\n",
    "    # There may be more than one\n",
    "    # sign in the image\n",
    "    for (x, y, width, height) in found:\n",
    "        # We draw a green rectangle around\n",
    "        # every recognized sign\n",
    "        cv2.rectangle(img_rgb, (x, y),\n",
    "        (x + height, y + width),\n",
    "        (0, 255, 0), 5)"
   ]
  },
  {
   "cell_type": "code",
   "execution_count": null,
   "id": "bf5d034c-7e55-47ed-bee6-8f966c55b8f9",
   "metadata": {},
   "outputs": [],
   "source": [
    "# Creates the environment of\n",
    "# the picture and shows it\n",
    "plt.subplot (1, 1, 1) \n",
    "plt.imshow(img_rgb) \n",
    "plt.show()"
   ]
  }
 ],
 "metadata": {
  "kernelspec": {
   "display_name": "Python 3 (ipykernel)",
   "language": "python",
   "name": "python3"
  },
  "language_info": {
   "codemirror_mode": {
    "name": "ipython",
    "version": 3
   },
   "file_extension": ".py",
   "mimetype": "text/x-python",
   "name": "python",
   "nbconvert_exporter": "python",
   "pygments_lexer": "ipython3",
   "version": "3.11.7"
  }
 },
 "nbformat": 4,
 "nbformat_minor": 5
}
