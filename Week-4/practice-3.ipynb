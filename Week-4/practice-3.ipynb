{
 "cells": [
  {
   "cell_type": "code",
   "execution_count": null,
   "id": "b0e28eb5-bc64-40a9-96b3-d308a52d7453",
   "metadata": {},
   "outputs": [],
   "source": [
    "# Robert Edge Detection\n",
    "import cv2\n",
    "import numpy as np"
   ]
  },
  {
   "cell_type": "code",
   "execution_count": null,
   "id": "dbb5a03d-d29c-48b8-8aa3-a7d0e98607b9",
   "metadata": {},
   "outputs": [],
   "source": [
    "# Load the image\n",
    "image = cv2.imread('img/beyonce.jpg', cv2.IMREAD_GRAYSCALE)"
   ]
  },
  {
   "cell_type": "code",
   "execution_count": null,
   "id": "28a3df65-1898-4112-a6d7-205767809878",
   "metadata": {},
   "outputs": [],
   "source": [
    "# Perform Guasian Blur\n",
    "image = cv2.GaussianBlur(image, (5, 5), 0)"
   ]
  },
  {
   "cell_type": "code",
   "execution_count": null,
   "id": "3bcb6eba-99c0-4f7a-80ff-893790a8c2ce",
   "metadata": {},
   "outputs": [],
   "source": [
    "# Define Robert kernels\n",
    "kernel_x = np.array ([[1, 0],\n",
    "[0, -1]])\n",
    "kernel_y = np.array([[0, 1],\n",
    "[-1, 0]])"
   ]
  },
  {
   "cell_type": "code",
   "execution_count": null,
   "id": "3eb37d58-e1c2-4876-98a7-ff23b1bb9ad3",
   "metadata": {},
   "outputs": [],
   "source": [
    "# Apply Robert edge detection\n",
    "robert_x = cv2.filter2D(image, -1, kernel_x)\n",
    "robert_y = cv2.filter2D(image, -1, kernel_y)"
   ]
  },
  {
   "cell_type": "code",
   "execution_count": null,
   "id": "5ed33725-57ab-4fa0-86a5-a71ff17ea115",
   "metadata": {},
   "outputs": [],
   "source": [
    "# Combine the gradient images\n",
    "robert_combined = np.sqrt(np.square (robert_x) + np.square (robert _y))"
   ]
  },
  {
   "cell_type": "code",
   "execution_count": null,
   "id": "51b6268a-9b00-4a0a-a11b-a9632c1bd6fa",
   "metadata": {},
   "outputs": [],
   "source": [
    "# Display the original image and the Robert edges\n",
    "cv2.imshow('Original', image) \n",
    "cv2.imshow('Robert Edges', np.uint8(robert_combined))"
   ]
  },
  {
   "cell_type": "code",
   "execution_count": null,
   "id": "5a912638-801d-4c85-97ce-0fbff15b3265",
   "metadata": {},
   "outputs": [],
   "source": [
    "# Wait for a key press and close all windows\n",
    "cv2.waitKey(0)\n",
    "cv2.destroyAllWindows)"
   ]
  }
 ],
 "metadata": {
  "kernelspec": {
   "display_name": "Python 3 (ipykernel)",
   "language": "python",
   "name": "python3"
  },
  "language_info": {
   "codemirror_mode": {
    "name": "ipython",
    "version": 3
   },
   "file_extension": ".py",
   "mimetype": "text/x-python",
   "name": "python",
   "nbconvert_exporter": "python",
   "pygments_lexer": "ipython3",
   "version": "3.11.7"
  }
 },
 "nbformat": 4,
 "nbformat_minor": 5
}
