{
 "cells": [
  {
   "cell_type": "code",
   "execution_count": null,
   "id": "25f167fc-eaca-4035-931f-7c46a1b052de",
   "metadata": {},
   "outputs": [],
   "source": [
    "import cv2\n",
    "import numpy as np\n",
    "from matplotlib import pyplot as plt"
   ]
  },
  {
   "cell_type": "code",
   "execution_count": null,
   "id": "d518a000",
   "metadata": {},
   "outputs": [],
   "source": [
    "def sobel_edge_detection(image):\n",
    "    image = cv2.resize(image, (500,400))\n",
    "    sobel_x = cv2. Sobel(image, cv2.CV_64F, 1, 0, ksize=3)\n",
    "    sobel_y = cv2. Sobel(image, cv2.CV_64F, 0, 1, ksize=3)\n",
    "    sobel_combined = cv2.magnitude (sobel_x, sobel_y)\n",
    "    cv2.imshow('Original', image)\n",
    "    cv2.imshow('Sobel Edges', np.uint8 (sobel_combined))\n",
    "    cv2.waitKey(0)\n"
   ]
  },
  {
   "cell_type": "code",
   "execution_count": null,
   "id": "c96b7f9d",
   "metadata": {},
   "outputs": [],
   "source": [
    "def prewitt_edge_detection(image):\n",
    "    image = cv2.resize(image, (500,400))\n",
    "    kernel_x = np.array([[-1, -1, -1],\n",
    "    [0, 0, 0],\n",
    "    [1, 1, 1]])\n",
    "    kernel_y = np.array([[-1, 0, 1],\n",
    "    [-1, 0, 1],\n",
    "    [-1, 0, 1]])\n",
    "    prewitt_x = cv2.filter2D(image, -1, kernel_x)\n",
    "    prewitt_y = cv2.filter2D(image, -1, kernel_y)\n",
    "    prewitt_combined = np.sqrt(np.square(prewitt_x) + np.square (prewitt_y))\n",
    "    cv2.imshow ('Original', image) \n",
    "    cv2.imshow('Prewitt Edges', np.uint8(prewitt_combined))\n",
    "    cv2.waitKey(0)\n"
   ]
  },
  {
   "cell_type": "code",
   "execution_count": null,
   "id": "b36a9d38",
   "metadata": {},
   "outputs": [],
   "source": [
    "def robert_edge_detection(image):\n",
    "    image = cv2.GaussianBlur(image, (5, 5), 0)\n",
    "    kernel_x = np.array ([[1, 0],\n",
    "    [0, -1]])\n",
    "    kernel_y = np.array([[0, 1],\n",
    "    [-1, 0]])\n",
    "    robert_x = cv2.filter2D(image, -1, kernel_x)\n",
    "    robert_y = cv2.filter2D(image, -1, kernel_y)\n",
    "    robert_combined = np.sqrt(np.square (robert_x) + np.square (robert_y))\n",
    "    cv2.imshow('Original', image) \n",
    "    cv2.imshow('Robert Edges', np.uint8(robert_combined))\n",
    "    cv2.waitKey(0)\n"
   ]
  },
  {
   "cell_type": "code",
   "execution_count": null,
   "id": "1722476a",
   "metadata": {},
   "outputs": [],
   "source": [
    "def laplacian_edge_detection(image):\n",
    "    image = cv2.resize(image, (400,400))\n",
    "    laplacian = cv2.Laplacian(image, cv2.CV_64F)\n",
    "    laplacian = cv2.convertScaleAbs(laplacian)\n",
    "    cv2.imshow('Original', image)\n",
    "    cv2.imshow('Laplacian Edges', laplacian)\n",
    "    cv2.waitKey(0)\n",
    "    "
   ]
  },
  {
   "cell_type": "code",
   "execution_count": null,
   "id": "6fd21388",
   "metadata": {},
   "outputs": [],
   "source": [
    "def canny_edge_detection(image):\n",
    "    image = cv2.resize(image, (400,400))\n",
    "    edges = cv2.Canny(image, 100, 200)\n",
    "    cv2.imshow('Original', image)\n",
    "    cv2.imshow('Edges', edges)\n",
    "    cv2.waitKey(0)"
   ]
  },
  {
   "cell_type": "code",
   "execution_count": null,
   "id": "04c81216",
   "metadata": {},
   "outputs": [],
   "source": [
    "def main():\n",
    "    image_path = 'img/2019.0130.-Omopae.jpg'\n",
    "    image = cv2.imread(image_path, cv2.IMREAD_GRAYSCALE)\n",
    "    \n",
    "    print(\"Choose an edge detection operator:\")\n",
    "    print(\"1. Sobel\")\n",
    "    print(\"2. Prewitt\")\n",
    "    print(\"3. Robert\")\n",
    "    print(\"4. Laplacian\")\n",
    "    print(\"5. Canny\")\n",
    "    choice = input(\"Enter your choice (1/2/3/4/5): \")\n",
    "\n",
    "    if choice == '1':\n",
    "        sobel_edge_detection(image)    \n",
    "    elif choice == '2':\n",
    "        prewitt_edge_detection(image)\n",
    "    elif choice == '3':\n",
    "        robert_edge_detection(image)\n",
    "    elif choice == '4':\n",
    "        laplacian_edge_detection(image)\n",
    "    elif choice == '5':\n",
    "        canny_edge_detection(image)\n",
    "    else:\n",
    "        print(\"Invalid choice.\")\n",
    "        exit()"
   ]
  },
  {
   "cell_type": "code",
   "execution_count": null,
   "id": "dd009919",
   "metadata": {},
   "outputs": [],
   "source": [
    "if __name__ == \"__main__\":\n",
    "    main()"
   ]
  },
  {
   "cell_type": "code",
   "execution_count": null,
   "id": "d2c40d17-c7da-43bc-8da7-e79b59de2664",
   "metadata": {},
   "outputs": [],
   "source": []
  },
  {
   "cell_type": "code",
   "execution_count": null,
   "id": "d907707c-bc88-4455-bb19-bf471c915388",
   "metadata": {},
   "outputs": [],
   "source": []
  }
 ],
 "metadata": {
  "kernelspec": {
   "display_name": "Python 3 (ipykernel)",
   "language": "python",
   "name": "python3"
  },
  "language_info": {
   "codemirror_mode": {
    "name": "ipython",
    "version": 3
   },
   "file_extension": ".py",
   "mimetype": "text/x-python",
   "name": "python",
   "nbconvert_exporter": "python",
   "pygments_lexer": "ipython3",
   "version": "3.11.7"
  }
 },
 "nbformat": 4,
 "nbformat_minor": 5
}
