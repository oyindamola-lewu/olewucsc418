{
 "cells": [
  {
   "cell_type": "code",
   "execution_count": null,
   "id": "131ffbe8-a735-439d-aa26-71452a31b610",
   "metadata": {},
   "outputs": [],
   "source": [
    "# Prewitt Edge Detection\n",
    "import cv2\n",
    "import numpy as np"
   ]
  },
  {
   "cell_type": "code",
   "execution_count": null,
   "id": "8a7d8e4e-ae7a-44b6-b146-37fe600ea705",
   "metadata": {},
   "outputs": [],
   "source": [
    "# Load the image\n",
    "image = cv2.imread('img/beyonce.jpg', cv2.IMREAD_GRAYSCALE)"
   ]
  },
  {
   "cell_type": "code",
   "execution_count": null,
   "id": "b4730b03-1c68-434c-9a50-8e25dc90bff5",
   "metadata": {},
   "outputs": [],
   "source": [
    "# resize images\n",
    "image = cv2.resize(image, (500,400))"
   ]
  },
  {
   "cell_type": "code",
   "execution_count": null,
   "id": "2c618d6f-1b83-4f6f-8610-cbb66a6750be",
   "metadata": {},
   "outputs": [],
   "source": [
    "# Define Prewitt kernels\n",
    "kernel_x = np.array([[-1, -1, -1],\n",
    "[0, 0, 0],\n",
    "[1, 1, 1]])\n",
    "kernel_y = np.array([[-1, 0, 1],\n",
    "[-1, 0, 1],\n",
    "[-1, 0, 1]])"
   ]
  },
  {
   "cell_type": "code",
   "execution_count": null,
   "id": "f30e4542-1f27-415c-94be-3beb2cb1b839",
   "metadata": {},
   "outputs": [],
   "source": [
    "# Apply Prewitt edge detection\n",
    "prewitt_x = cv2.filter2D(image, -1, kernel_x)\n",
    "prewitt_y = cv2.filter2D(image, -1, kernel_y)"
   ]
  },
  {
   "cell_type": "code",
   "execution_count": null,
   "id": "68051cc1-072e-442b-b34c-a94e0bd86b35",
   "metadata": {},
   "outputs": [],
   "source": [
    "# Compute magnitude of gradients manualLy\n",
    "prewitt_combined = np.sqrt(np.square(prewitt_x) + np.square (prewitt_y))"
   ]
  },
  {
   "cell_type": "code",
   "execution_count": null,
   "id": "4a843133-b64e-41e7-8871-830d0f1f5716",
   "metadata": {},
   "outputs": [],
   "source": [
    "# Display the original image and the Prewitt edges\n",
    "cv2.imshow ('Original', image) \n",
    "cv2.imshow('Prewitt Edges', np.uints(prewitt_combined))"
   ]
  },
  {
   "cell_type": "code",
   "execution_count": null,
   "id": "e046e67a-7791-4781-8e90-bda1740f4c9a",
   "metadata": {},
   "outputs": [],
   "source": [
    "# Wait for a key press and close all windows\n",
    "cv2.waitKey(0)\n",
    "cv2.destroyAllWindows()"
   ]
  }
 ],
 "metadata": {
  "kernelspec": {
   "display_name": "Python 3 (ipykernel)",
   "language": "python",
   "name": "python3"
  },
  "language_info": {
   "codemirror_mode": {
    "name": "ipython",
    "version": 3
   },
   "file_extension": ".py",
   "mimetype": "text/x-python",
   "name": "python",
   "nbconvert_exporter": "python",
   "pygments_lexer": "ipython3",
   "version": "3.11.7"
  }
 },
 "nbformat": 4,
 "nbformat_minor": 5
}
