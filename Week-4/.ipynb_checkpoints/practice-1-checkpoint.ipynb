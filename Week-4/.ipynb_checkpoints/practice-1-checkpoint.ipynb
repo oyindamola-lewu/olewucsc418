{
 "cells": [
  {
   "cell_type": "code",
   "execution_count": 1,
   "id": "882095d1-5403-4338-8a95-ae37564ad306",
   "metadata": {},
   "outputs": [],
   "source": [
    "# Sobel edge detection\n",
    "import cv2\n",
    "import numpy as np"
   ]
  },
  {
   "cell_type": "code",
   "execution_count": null,
   "id": "a038015f-3396-4710-9958-bac6f9be9e47",
   "metadata": {},
   "outputs": [],
   "source": [
    "# Load the image\n",
    "image = cv2.imread('img/beyonce.jpg', cv2.IMREAD_GRAYSCALE)"
   ]
  },
  {
   "cell_type": "code",
   "execution_count": null,
   "id": "b28c9758-a19c-40d6-a401-4d54fbd58c3f",
   "metadata": {},
   "outputs": [],
   "source": [
    "# resize images\n",
    "image = cv2.resize(image, (500,400))"
   ]
  },
  {
   "cell_type": "code",
   "execution_count": null,
   "id": "4215d706-acc5-4de9-a8ca-a3336a6f677f",
   "metadata": {},
   "outputs": [],
   "source": [
    "# Apply Sobel edge detection\n",
    "sobel_x = cv2. Sobel(image, cv2.CV_64F, 1, 0, ksize=3)\n",
    "sobel_y = cv2. Sobel(image, cv2.CV_64F, 0, 1, ksize=3)"
   ]
  },
  {
   "cell_type": "code",
   "execution_count": null,
   "id": "042e4581-4afc-42a2-ab7a-817cd4ca1506",
   "metadata": {},
   "outputs": [],
   "source": [
    "# Combine the gradient images\n",
    "sobel_combined = cv2.magnitude (sobel_x, sobel_y)"
   ]
  },
  {
   "cell_type": "code",
   "execution_count": null,
   "id": "be112ac9-e9b5-443a-8f69-5eb4af2c7c59",
   "metadata": {},
   "outputs": [],
   "source": [
    "# Display the original image and the Sobel edges\n",
    "cv2.imshow('Original', image)\n",
    "cv2.imshow('Sobel Edges', np.uint8 (sobel_combined))"
   ]
  },
  {
   "cell_type": "code",
   "execution_count": null,
   "id": "6bb1f25a-481e-437a-9e08-e479d74ebac7",
   "metadata": {},
   "outputs": [],
   "source": [
    "# Wait for a key press and close all windows\n",
    "cv2.waitKey(0)\n",
    "cv2.destroyAllWindows()"
   ]
  }
 ],
 "metadata": {
  "kernelspec": {
   "display_name": "Python 3 (ipykernel)",
   "language": "python",
   "name": "python3"
  },
  "language_info": {
   "codemirror_mode": {
    "name": "ipython",
    "version": 3
   },
   "file_extension": ".py",
   "mimetype": "text/x-python",
   "name": "python",
   "nbconvert_exporter": "python",
   "pygments_lexer": "ipython3",
   "version": "3.11.7"
  }
 },
 "nbformat": 4,
 "nbformat_minor": 5
}
