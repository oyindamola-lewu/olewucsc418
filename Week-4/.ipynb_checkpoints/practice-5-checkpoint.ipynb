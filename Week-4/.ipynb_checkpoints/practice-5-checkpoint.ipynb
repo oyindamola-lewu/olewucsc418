{
 "cells": [
  {
   "cell_type": "code",
   "execution_count": null,
   "id": "f609622d-99c2-4f23-9f44-d0030ed9fe07",
   "metadata": {},
   "outputs": [],
   "source": [
    "# Canny Edge detection\n",
    "import cv2"
   ]
  },
  {
   "cell_type": "code",
   "execution_count": null,
   "id": "66758054-7dda-4c3e-afeb-295a471a1196",
   "metadata": {},
   "outputs": [],
   "source": [
    "# Load the image\n",
    "image = cv2.imread('img/chudi.jpg', cv2. IMREAD_GRAYSCALE)"
   ]
  },
  {
   "cell_type": "code",
   "execution_count": null,
   "id": "a3adf0e1-d141-4565-aeac-4d82814e129d",
   "metadata": {},
   "outputs": [],
   "source": [
    "# resize images\n",
    "image = cv2.resize(image, (400,400))"
   ]
  },
  {
   "cell_type": "code",
   "execution_count": null,
   "id": "b98a7509-6b58-4fce-9b14-4ee79f42030d",
   "metadata": {},
   "outputs": [],
   "source": [
    "# Perform Canny edge detection\n",
    "edges = cv2.Canny (image, 100, 200) # Adjust the threshold val"
   ]
  },
  {
   "cell_type": "code",
   "execution_count": null,
   "id": "811242b7-7d38-43ed-86e6-b558e06f3ed2",
   "metadata": {},
   "outputs": [],
   "source": [
    "# Display the original image and the detected edges\n",
    "cv2.imshow('Original', image)\n",
    "cv2.imshow('Edges', edges)"
   ]
  },
  {
   "cell_type": "code",
   "execution_count": null,
   "id": "99eab1f0-770d-4417-8d3b-8483deb3a066",
   "metadata": {},
   "outputs": [],
   "source": [
    "# Wait for a key press and close all windows\n",
    "cv2.waitKey (0)\n",
    "cv2.destroyAllWindows ()"
   ]
  }
 ],
 "metadata": {
  "kernelspec": {
   "display_name": "Python 3 (ipykernel)",
   "language": "python",
   "name": "python3"
  },
  "language_info": {
   "codemirror_mode": {
    "name": "ipython",
    "version": 3
   },
   "file_extension": ".py",
   "mimetype": "text/x-python",
   "name": "python",
   "nbconvert_exporter": "python",
   "pygments_lexer": "ipython3",
   "version": "3.11.7"
  }
 },
 "nbformat": 4,
 "nbformat_minor": 5
}
