{
 "cells": [
  {
   "cell_type": "code",
   "execution_count": null,
   "id": "2d9fe90b-8855-49ad-9d86-c4ac5ddd6e62",
   "metadata": {},
   "outputs": [],
   "source": [
    "# Laplacian Edge Detection\n",
    "import cv2"
   ]
  },
  {
   "cell_type": "code",
   "execution_count": null,
   "id": "5609cb76-ad34-4cef-8fec-38b17e2ee74c",
   "metadata": {},
   "outputs": [],
   "source": [
    "# Load the image\n",
    "image = cv2.imread('img/chudi.jpg', cv2.IMREAD _GRAYSCALE)"
   ]
  },
  {
   "cell_type": "code",
   "execution_count": null,
   "id": "4335cb88-455f-4f86-948b-f5f0c3022a5a",
   "metadata": {},
   "outputs": [],
   "source": [
    "# resize images\n",
    "image = cv2.resize(image, (400,400))"
   ]
  },
  {
   "cell_type": "code",
   "execution_count": null,
   "id": "63b714ff-9e3c-4beb-b0fd-581f1e06180a",
   "metadata": {},
   "outputs": [],
   "source": [
    "# Perform Guasian Blur\n",
    "#image = cv2.GaussianBlur (image, (5, 5), 0)"
   ]
  },
  {
   "cell_type": "code",
   "execution_count": null,
   "id": "1f3f4ee8-0a47-4cc8-bbf5-51077d02e1b4",
   "metadata": {},
   "outputs": [],
   "source": [
    "# Apply Laplacian edge detection\n",
    "laplacian = cv2.Laplacian(image, cv2.CV_64F)"
   ]
  },
  {
   "cell_type": "code",
   "execution_count": null,
   "id": "a5c96146-3f70-4f2c-b3b6-ebb05194698b",
   "metadata": {},
   "outputs": [],
   "source": [
    "# Convert the output to an 8-bit image\n",
    "laplacian = cv2.convertScaleAbs(laplacian)"
   ]
  },
  {
   "cell_type": "code",
   "execution_count": null,
   "id": "31ab161b-dfb4-4a20-a99d-1398affc5df3",
   "metadata": {},
   "outputs": [],
   "source": [
    "# Display the original image and the Laplacian edges\n",
    "cv2.imshow('Original', image)\n",
    "cv2.imshow('Laplacian Edges', laplacian)"
   ]
  },
  {
   "cell_type": "code",
   "execution_count": null,
   "id": "722d5679-8802-468b-987d-ac50eb1e6206",
   "metadata": {},
   "outputs": [],
   "source": [
    "# Wait for a key press and close all windows\n",
    "cv2.waitKey(0)\n",
    "cv2.destroyAllWindows()"
   ]
  }
 ],
 "metadata": {
  "kernelspec": {
   "display_name": "Python 3 (ipykernel)",
   "language": "python",
   "name": "python3"
  },
  "language_info": {
   "codemirror_mode": {
    "name": "ipython",
    "version": 3
   },
   "file_extension": ".py",
   "mimetype": "text/x-python",
   "name": "python",
   "nbconvert_exporter": "python",
   "pygments_lexer": "ipython3",
   "version": "3.11.7"
  }
 },
 "nbformat": 4,
 "nbformat_minor": 5
}
